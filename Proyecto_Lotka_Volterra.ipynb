{
 "cells": [
  {
   "cell_type": "code",
   "execution_count": 23,
   "id": "e489cea2-625e-4989-8161-21f98acbb533",
   "metadata": {},
   "outputs": [],
   "source": [
    "import numpy as np\n",
    "import matplotlib.pyplot as plt"
   ]
  },
  {
   "cell_type": "code",
   "execution_count": 24,
   "id": "389c23b2-d0da-4612-8a3d-03431fae1637",
   "metadata": {},
   "outputs": [],
   "source": [
    "# Lotka-Volterra Model Parameters\n",
    "alpha = 1.1\n",
    "beta = 0.4\n",
    "gamma = 0.4\n",
    "delta = 0.1\n",
    "epsilon = 0.1\n",
    "zeta = 0.4\n",
    "\n",
    "# Sample Time\n",
    "dt = 0.01\n",
    "\n",
    "# Simulation Time\n",
    "N = 5000\n",
    "t = np.arange(N)*dt\n",
    "\n",
    "# Initial Values\n",
    "x0 = 5 # Aphid prey\n",
    "y0 = 5 # Ladybird depredator\n",
    "z0 = 20 # Spider"
   ]
  },
  {
   "cell_type": "code",
   "execution_count": 25,
   "id": "2444aaf5-e58b-4f70-b981-730dec68a201",
   "metadata": {},
   "outputs": [],
   "source": [
    "# Dynamics of The Model\n",
    "def f(x, y, z):\n",
    "    xdot = alpha*x - beta*x*y\n",
    "    ydot = delta*x*y - gamma*y*z\n",
    "    zdot = epsilon*y*z - zeta*z\n",
    "    return xdot, ydot, zdot\n"
   ]
  },
  {
   "cell_type": "code",
   "execution_count": 26,
   "id": "1b7752f1-7cfc-4c87-8eed-9f9aac9a78f7",
   "metadata": {},
   "outputs": [],
   "source": [
    "# State Transition using Runge-Kutta Method\n",
    "def next(x, y, z):\n",
    "    xdot1, ydot1, zdot1 = f(x, y, z)\n",
    "    xdot2, ydot2, zdot2 = f(x + xdot1*dt/2, y + ydot1*dt/2, z + zdot1*dt/2)\n",
    "    xdot3, ydot3, zdot3 = f(x + xdot2*dt/2, y + ydot2*dt/2, z + zdot2*dt/2)\n",
    "    xdot4, ydot4, zdot4 = f(x + xdot3*dt, y + ydot3*dt, z + zdot3*dt/2)\n",
    "    xnew = x + (xdot1 + 2*xdot2 + 2*xdot3 + xdot4)*dt/6\n",
    "    ynew = y + (ydot1 + 2*ydot2 + 2*ydot3 + ydot4)*dt/6\n",
    "    znew = z + (zdot1 + 2*zdot2 + 2*zdot3 + zdot4)*dt/6\n",
    "    return xnew, ynew, znew"
   ]
  },
  {
   "cell_type": "code",
   "execution_count": 27,
   "id": "73e989d5-bbba-4eb4-a5c9-69139f6739b2",
   "metadata": {},
   "outputs": [],
   "source": [
    "# Simulation Loop\n",
    "x = np.zeros(N)\n",
    "y = np.zeros(N)\n",
    "z = np.zeros(N)\n",
    "x[0] = x0\n",
    "y[0] = y0\n",
    "z[0] = z0\n",
    "for k in range(N-1):\n",
    "    x[k+1], y[k+1], z[k+1] = next(x[k], y[k], z[k])"
   ]
  },
  {
   "cell_type": "code",
   "execution_count": 28,
   "id": "5ad7c9f4-008a-4f5e-9d72-e34e74d1189c",
   "metadata": {},
   "outputs": [],
   "source": [
    "# Plot Results\n",
    "#plt.subplot(1,2,1)\n",
    "#plt.plot(t,x, label='Aphid', linewidth=1)\n",
    "#plt.plot(t,y, label='Ladybug', linewidth=1)\n",
    "#plt.plot(t,z, label='Spider', linewidth=1)\n",
    "#plt.grid()\n",
    "#plt.legend(loc = 'upper right')\n",
    "#plt.xlabel('Time')\n",
    "\n",
    "#plt.subplot(1,2,2)\n",
    "#plt.plot(x,y,z, linewidth=1)\n",
    "#plt.grid()\n",
    "#plt.xlabel('Aphid')\n",
    "#plt.ylabel('Ladybird')\n",
    "#plt.zlabel('Spider')\n",
    "#plt.title('Phase Portrait')\n",
    "\n",
    "#plt.show()\n"
   ]
  },
  {
   "cell_type": "code",
   "execution_count": 29,
   "id": "325d24eb-f2f8-4f2f-af64-afe03433c28d",
   "metadata": {},
   "outputs": [
    {
     "data": {
      "text/plain": [
       "Text(0.5, 0, 'Time')"
      ]
     },
     "execution_count": 29,
     "metadata": {},
     "output_type": "execute_result"
    },
    {
     "data": {
      "image/png": "[encoded data removed]",
      "text/plain": [
       "<Figure size 432x288 with 1 Axes>"
      ]
     },
     "metadata": {
      "needs_background": "light"
     },
     "output_type": "display_data"
    }
   ],
   "source": [
    "# Plot Results\n",
    "plt.subplot(1,2,1)\n",
    "plt.plot(t,x, label='Aphid', linewidth=1)\n",
    "plt.plot(t,y, label='Ladybird', linewidth=1)\n",
    "plt.plot(t,z, label='Spider', linewidth=1)\n",
    "plt.grid()\n",
    "plt.legend(loc = 'upper right')\n",
    "plt.xlabel('Time')"
   ]
  },
  {
   "cell_type": "code",
   "execution_count": null,
   "id": "aba02772-4ccd-4a68-b338-ef7a28cdc8e8",
   "metadata": {},
   "outputs": [],
   "source": []
  },
  {
   "cell_type": "code",
   "execution_count": null,
   "id": "7ebaf5af-3d35-4702-b582-cdcd5f306295",
   "metadata": {},
   "outputs": [],
   "source": []
  },
  {
   "cell_type": "code",
   "execution_count": null,
   "id": "eb6578be-f39f-4053-9526-3f011b6702ce",
   "metadata": {},
   "outputs": [],
   "source": []
  }
 ],
 "metadata": {
  "kernelspec": {
   "display_name": "Python 3 (ipykernel)",
   "language": "python",
   "name": "python3"
  },
  "language_info": {
   "codemirror_mode": {
    "name": "ipython",
    "version": 3
   },
   "file_extension": ".py",
   "mimetype": "text/x-python",
   "name": "python",
   "nbconvert_exporter": "python",
   "pygments_lexer": "ipython3",
   "version": "3.9.7"
  }
 },
 "nbformat": 4,
 "nbformat_minor": 5
}
